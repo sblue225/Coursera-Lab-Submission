{
 "cells": [
  {
   "cell_type": "markdown",
   "id": "b7527a55-c9c5-4c3d-872c-e0169d5b9fd9",
   "metadata": {},
   "source": [
    "# Data Science Tools and Ecosystem"
   ]
  },
  {
   "cell_type": "markdown",
   "id": "fce3d2cd-bf59-4511-ba79-a84d7d040029",
   "metadata": {},
   "source": [
    "Welcome! In this notebook, Data Science Tools and Ecosystem are summarized"
   ]
  },
  {
   "cell_type": "markdown",
   "id": "acc20d69-63bc-428d-aa33-686ed8079128",
   "metadata": {},
   "source": [
    "__Objectives:__\n",
    "* List Popular languages for Data Science\n",
    "* List commonly used Data Science libraries\n",
    "* List Data Science tools"
   ]
  },
  {
   "attachments": {},
   "cell_type": "markdown",
   "id": "fec42b32-614a-4494-8a80-f0ca068d41a1",
   "metadata": {},
   "source": [
    "Some of the popular languages that Data Scientists use are:\n",
    "\n",
    "1. Python\n",
    "2. R\n",
    "3. Julia"
   ]
  },
  {
   "cell_type": "markdown",
   "id": "ed5c5966-8c3f-4a02-86c3-2c632a2716b3",
   "metadata": {},
   "source": [
    "Some of the commonly used libraries used by Data Scientists include:\n",
    "1. Matplotlib\n",
    "2. NumPy\n",
    "3. Ploty"
   ]
  },
  {
   "cell_type": "markdown",
   "id": "d870c4fc-a5dd-4ef0-9933-5c65e8a8b558",
   "metadata": {},
   "source": [
    "|Data Science Tools|\n",
    "------------------\n",
    "|RStudio|\n",
    "|Jupyter Notebook|\n",
    "|Spyder|"
   ]
  },
  {
   "cell_type": "markdown",
   "id": "33220b40-de1a-4df0-8f77-7d559bfe78fe",
   "metadata": {},
   "source": [
    "### Below are a few examples of evaluating arithmetic expressions in Python"
   ]
  },
  {
   "cell_type": "markdown",
   "id": "ed4448d1-d3b8-464b-b5be-a2d82465a66d",
   "metadata": {},
   "source": [
    "This a simple arithmetic expression to mutiply then add integers"
   ]
  },
  {
   "cell_type": "code",
   "execution_count": 3,
   "id": "3f31cf0b-9529-4c05-a8b5-1bf07031d089",
   "metadata": {},
   "outputs": [
    {
     "data": {
      "text/plain": [
       "17"
      ]
     },
     "execution_count": 3,
     "metadata": {},
     "output_type": "execute_result"
    }
   ],
   "source": [
    "(3*4)+5"
   ]
  },
  {
   "cell_type": "markdown",
   "id": "151bdafb-d95f-4806-9b56-0eb3590fbc7b",
   "metadata": {},
   "source": [
    "This will convert 200 minutes to hours by diving by 60"
   ]
  },
  {
   "cell_type": "code",
   "execution_count": 4,
   "id": "f8c25256-c82a-4e02-863d-56b104e5f9ea",
   "metadata": {},
   "outputs": [
    {
     "data": {
      "text/plain": [
       "3.3333333333333335"
      ]
     },
     "execution_count": 4,
     "metadata": {},
     "output_type": "execute_result"
    }
   ],
   "source": [
    "200/60"
   ]
  },
  {
   "cell_type": "markdown",
   "id": "2a094a1a-665f-4b7f-9093-818331b9529e",
   "metadata": {},
   "source": [
    "## Author\n",
    "S.Simmons"
   ]
  },
  {
   "cell_type": "code",
   "execution_count": null,
   "id": "f337b918-b376-41d8-acb2-8cc24b2bcfaf",
   "metadata": {},
   "outputs": [],
   "source": []
  }
 ],
 "metadata": {
  "kernelspec": {
   "display_name": "Python 3 (ipykernel)",
   "language": "python",
   "name": "python3"
  },
  "language_info": {
   "codemirror_mode": {
    "name": "ipython",
    "version": 3
   },
   "file_extension": ".py",
   "mimetype": "text/x-python",
   "name": "python",
   "nbconvert_exporter": "python",
   "pygments_lexer": "ipython3",
   "version": "3.12.4"
  }
 },
 "nbformat": 4,
 "nbformat_minor": 5
}
